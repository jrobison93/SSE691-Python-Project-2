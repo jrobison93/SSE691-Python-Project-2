{
 "cells": [
  {
   "cell_type": "code",
   "execution_count": 94,
   "metadata": {
    "collapsed": true
   },
   "outputs": [],
   "source": [
    "import numpy as np\n",
    "import pandas as pd\n",
    "import matplotlib.pyplot as plt\n",
    "%matplotlib inline"
   ]
  },
  {
   "cell_type": "code",
   "execution_count": 151,
   "metadata": {
    "collapsed": true
   },
   "outputs": [],
   "source": [
    "adultUrl = \"./Smoking_Prevalence_in_Adults__1984-2013.csv\"\n",
    "highSchoolUrl = \"./Smoking_Prevalence_in_High_School__2001-2012.csv\"\n",
    "minorSalesUrl = \"./Tobacco_Sold_to_Minors__California__1997-2014.csv\""
   ]
  },
  {
   "cell_type": "code",
   "execution_count": 152,
   "metadata": {
    "collapsed": false
   },
   "outputs": [],
   "source": [
    "adultDf = pd.read_csv(adultUrl, index_col = \"Year\", parse_dates = True)\n",
    "adultTotalDf = adultDf.loc[adultDf['Gender'] == 'Total']\n",
    "adultMaleDf = adultDf.loc[adultDf['Gender'] == 'Male']\n",
    "adultFemaleDf = adultDf.loc[adultDf['Gender'] == 'Female']"
   ]
  },
  {
   "cell_type": "code",
   "execution_count": 153,
   "metadata": {
    "collapsed": false
   },
   "outputs": [
    {
     "data": {
      "text/html": [
       "<div>\n",
       "<table border=\"1\" class=\"dataframe\">\n",
       "  <thead>\n",
       "    <tr style=\"text-align: right;\">\n",
       "      <th></th>\n",
       "      <th>Percentage of  Current Smokers</th>\n",
       "      <th>Lower 95% Confidence Interval</th>\n",
       "      <th>Upper 95% Confidence Interval</th>\n",
       "      <th>Number of Respondents</th>\n",
       "    </tr>\n",
       "  </thead>\n",
       "  <tbody>\n",
       "    <tr>\n",
       "      <th>count</th>\n",
       "      <td>30.000000</td>\n",
       "      <td>30.000000</td>\n",
       "      <td>30.000000</td>\n",
       "      <td>30.00000</td>\n",
       "    </tr>\n",
       "    <tr>\n",
       "      <th>mean</th>\n",
       "      <td>0.171933</td>\n",
       "      <td>0.161567</td>\n",
       "      <td>0.182467</td>\n",
       "      <td>8183.40000</td>\n",
       "    </tr>\n",
       "    <tr>\n",
       "      <th>std</th>\n",
       "      <td>0.041168</td>\n",
       "      <td>0.035473</td>\n",
       "      <td>0.046670</td>\n",
       "      <td>4929.53422</td>\n",
       "    </tr>\n",
       "    <tr>\n",
       "      <th>min</th>\n",
       "      <td>0.117000</td>\n",
       "      <td>0.111000</td>\n",
       "      <td>0.124000</td>\n",
       "      <td>1082.00000</td>\n",
       "    </tr>\n",
       "    <tr>\n",
       "      <th>25%</th>\n",
       "      <td>0.138500</td>\n",
       "      <td>0.132500</td>\n",
       "      <td>0.144750</td>\n",
       "      <td>3236.25000</td>\n",
       "    </tr>\n",
       "    <tr>\n",
       "      <th>50%</th>\n",
       "      <td>0.165000</td>\n",
       "      <td>0.157000</td>\n",
       "      <td>0.173000</td>\n",
       "      <td>8278.50000</td>\n",
       "    </tr>\n",
       "    <tr>\n",
       "      <th>75%</th>\n",
       "      <td>0.193500</td>\n",
       "      <td>0.178750</td>\n",
       "      <td>0.208250</td>\n",
       "      <td>10288.50000</td>\n",
       "    </tr>\n",
       "    <tr>\n",
       "      <th>max</th>\n",
       "      <td>0.267000</td>\n",
       "      <td>0.243000</td>\n",
       "      <td>0.290000</td>\n",
       "      <td>17486.00000</td>\n",
       "    </tr>\n",
       "  </tbody>\n",
       "</table>\n",
       "</div>"
      ],
      "text/plain": [
       "       Percentage of  Current Smokers  Lower 95% Confidence Interval  \\\n",
       "count                       30.000000                      30.000000   \n",
       "mean                         0.171933                       0.161567   \n",
       "std                          0.041168                       0.035473   \n",
       "min                          0.117000                       0.111000   \n",
       "25%                          0.138500                       0.132500   \n",
       "50%                          0.165000                       0.157000   \n",
       "75%                          0.193500                       0.178750   \n",
       "max                          0.267000                       0.243000   \n",
       "\n",
       "       Upper 95% Confidence Interval  Number of Respondents  \n",
       "count                      30.000000               30.00000  \n",
       "mean                        0.182467             8183.40000  \n",
       "std                         0.046670             4929.53422  \n",
       "min                         0.124000             1082.00000  \n",
       "25%                         0.144750             3236.25000  \n",
       "50%                         0.173000             8278.50000  \n",
       "75%                         0.208250            10288.50000  \n",
       "max                         0.290000            17486.00000  "
      ]
     },
     "execution_count": 153,
     "metadata": {},
     "output_type": "execute_result"
    }
   ],
   "source": [
    "adultTotalDf.describe()"
   ]
  },
  {
   "cell_type": "code",
   "execution_count": 154,
   "metadata": {
    "collapsed": false
   },
   "outputs": [
    {
     "data": {
      "text/html": [
       "<div>\n",
       "<table border=\"1\" class=\"dataframe\">\n",
       "  <thead>\n",
       "    <tr style=\"text-align: right;\">\n",
       "      <th></th>\n",
       "      <th>Percentage of  Current Smokers</th>\n",
       "      <th>Lower 95% Confidence Interval</th>\n",
       "      <th>Upper 95% Confidence Interval</th>\n",
       "      <th>Number of Respondents</th>\n",
       "    </tr>\n",
       "  </thead>\n",
       "  <tbody>\n",
       "    <tr>\n",
       "      <th>count</th>\n",
       "      <td>30.000000</td>\n",
       "      <td>30.000000</td>\n",
       "      <td>30.000000</td>\n",
       "      <td>30.000000</td>\n",
       "    </tr>\n",
       "    <tr>\n",
       "      <th>mean</th>\n",
       "      <td>0.199667</td>\n",
       "      <td>0.182933</td>\n",
       "      <td>0.216400</td>\n",
       "      <td>3330.233333</td>\n",
       "    </tr>\n",
       "    <tr>\n",
       "      <th>std</th>\n",
       "      <td>0.037353</td>\n",
       "      <td>0.029402</td>\n",
       "      <td>0.045645</td>\n",
       "      <td>1844.801694</td>\n",
       "    </tr>\n",
       "    <tr>\n",
       "      <th>min</th>\n",
       "      <td>0.147000</td>\n",
       "      <td>0.138000</td>\n",
       "      <td>0.155000</td>\n",
       "      <td>449.000000</td>\n",
       "    </tr>\n",
       "    <tr>\n",
       "      <th>25%</th>\n",
       "      <td>0.172000</td>\n",
       "      <td>0.161000</td>\n",
       "      <td>0.183250</td>\n",
       "      <td>1481.750000</td>\n",
       "    </tr>\n",
       "    <tr>\n",
       "      <th>50%</th>\n",
       "      <td>0.193000</td>\n",
       "      <td>0.180000</td>\n",
       "      <td>0.205500</td>\n",
       "      <td>3531.500000</td>\n",
       "    </tr>\n",
       "    <tr>\n",
       "      <th>75%</th>\n",
       "      <td>0.220000</td>\n",
       "      <td>0.197750</td>\n",
       "      <td>0.239750</td>\n",
       "      <td>4212.250000</td>\n",
       "    </tr>\n",
       "    <tr>\n",
       "      <th>max</th>\n",
       "      <td>0.282000</td>\n",
       "      <td>0.246000</td>\n",
       "      <td>0.318000</td>\n",
       "      <td>6813.000000</td>\n",
       "    </tr>\n",
       "  </tbody>\n",
       "</table>\n",
       "</div>"
      ],
      "text/plain": [
       "       Percentage of  Current Smokers  Lower 95% Confidence Interval  \\\n",
       "count                       30.000000                      30.000000   \n",
       "mean                         0.199667                       0.182933   \n",
       "std                          0.037353                       0.029402   \n",
       "min                          0.147000                       0.138000   \n",
       "25%                          0.172000                       0.161000   \n",
       "50%                          0.193000                       0.180000   \n",
       "75%                          0.220000                       0.197750   \n",
       "max                          0.282000                       0.246000   \n",
       "\n",
       "       Upper 95% Confidence Interval  Number of Respondents  \n",
       "count                      30.000000              30.000000  \n",
       "mean                        0.216400            3330.233333  \n",
       "std                         0.045645            1844.801694  \n",
       "min                         0.155000             449.000000  \n",
       "25%                         0.183250            1481.750000  \n",
       "50%                         0.205500            3531.500000  \n",
       "75%                         0.239750            4212.250000  \n",
       "max                         0.318000            6813.000000  "
      ]
     },
     "execution_count": 154,
     "metadata": {},
     "output_type": "execute_result"
    }
   ],
   "source": [
    "adultMaleDf.describe()"
   ]
  },
  {
   "cell_type": "code",
   "execution_count": 155,
   "metadata": {
    "collapsed": false
   },
   "outputs": [
    {
     "data": {
      "text/html": [
       "<div>\n",
       "<table border=\"1\" class=\"dataframe\">\n",
       "  <thead>\n",
       "    <tr style=\"text-align: right;\">\n",
       "      <th></th>\n",
       "      <th>Percentage of  Current Smokers</th>\n",
       "      <th>Lower 95% Confidence Interval</th>\n",
       "      <th>Upper 95% Confidence Interval</th>\n",
       "      <th>Number of Respondents</th>\n",
       "    </tr>\n",
       "  </thead>\n",
       "  <tbody>\n",
       "    <tr>\n",
       "      <th>count</th>\n",
       "      <td>30.000000</td>\n",
       "      <td>30.000000</td>\n",
       "      <td>30.000000</td>\n",
       "      <td>30.000000</td>\n",
       "    </tr>\n",
       "    <tr>\n",
       "      <th>mean</th>\n",
       "      <td>0.145433</td>\n",
       "      <td>0.132400</td>\n",
       "      <td>0.159767</td>\n",
       "      <td>4794.433333</td>\n",
       "    </tr>\n",
       "    <tr>\n",
       "      <th>std</th>\n",
       "      <td>0.045351</td>\n",
       "      <td>0.037962</td>\n",
       "      <td>0.052355</td>\n",
       "      <td>3015.627820</td>\n",
       "    </tr>\n",
       "    <tr>\n",
       "      <th>min</th>\n",
       "      <td>0.085000</td>\n",
       "      <td>0.077000</td>\n",
       "      <td>0.092000</td>\n",
       "      <td>633.000000</td>\n",
       "    </tr>\n",
       "    <tr>\n",
       "      <th>25%</th>\n",
       "      <td>0.108000</td>\n",
       "      <td>0.100500</td>\n",
       "      <td>0.115250</td>\n",
       "      <td>1754.500000</td>\n",
       "    </tr>\n",
       "    <tr>\n",
       "      <th>50%</th>\n",
       "      <td>0.139000</td>\n",
       "      <td>0.129000</td>\n",
       "      <td>0.151500</td>\n",
       "      <td>4731.500000</td>\n",
       "    </tr>\n",
       "    <tr>\n",
       "      <th>75%</th>\n",
       "      <td>0.173000</td>\n",
       "      <td>0.155750</td>\n",
       "      <td>0.189500</td>\n",
       "      <td>6096.250000</td>\n",
       "    </tr>\n",
       "    <tr>\n",
       "      <th>max</th>\n",
       "      <td>0.252000</td>\n",
       "      <td>0.221000</td>\n",
       "      <td>0.282000</td>\n",
       "      <td>10673.000000</td>\n",
       "    </tr>\n",
       "  </tbody>\n",
       "</table>\n",
       "</div>"
      ],
      "text/plain": [
       "       Percentage of  Current Smokers  Lower 95% Confidence Interval  \\\n",
       "count                       30.000000                      30.000000   \n",
       "mean                         0.145433                       0.132400   \n",
       "std                          0.045351                       0.037962   \n",
       "min                          0.085000                       0.077000   \n",
       "25%                          0.108000                       0.100500   \n",
       "50%                          0.139000                       0.129000   \n",
       "75%                          0.173000                       0.155750   \n",
       "max                          0.252000                       0.221000   \n",
       "\n",
       "       Upper 95% Confidence Interval  Number of Respondents  \n",
       "count                      30.000000              30.000000  \n",
       "mean                        0.159767            4794.433333  \n",
       "std                         0.052355            3015.627820  \n",
       "min                         0.092000             633.000000  \n",
       "25%                         0.115250            1754.500000  \n",
       "50%                         0.151500            4731.500000  \n",
       "75%                         0.189500            6096.250000  \n",
       "max                         0.282000           10673.000000  "
      ]
     },
     "execution_count": 155,
     "metadata": {},
     "output_type": "execute_result"
    }
   ],
   "source": [
    "adultFemaleDf.describe()"
   ]
  },
  {
   "cell_type": "code",
   "execution_count": 156,
   "metadata": {
    "collapsed": false
   },
   "outputs": [
    {
     "data": {
      "text/plain": [
       "<matplotlib.legend.Legend at 0xd9dc7b8>"
      ]
     },
     "execution_count": 156,
     "metadata": {},
     "output_type": "execute_result"
    },
    {
     "data": {
      "image/png": "[encoded data removed]",
      "text/plain": [
       "<matplotlib.figure.Figure at 0xd9dca58>"
      ]
     },
     "metadata": {},
     "output_type": "display_data"
    }
   ],
   "source": [
    "adultTotalPlot = adultTotalDf[['Percentage of  Current Smokers']].plot()\n",
    "adultMalePlot = adultMaleDf[['Percentage of  Current Smokers']].plot(ax = adultTotalPlot)\n",
    "adultFemalePlot = adultFemaleDf[['Percentage of  Current Smokers']].plot(ax = adultMalePlot)\n",
    "handles, labels = adultFemalePlot.get_legend_handles_labels()\n",
    "adultFemalePlot.legend(handles, ['Total', 'Male', 'Female'])"
   ]
  },
  {
   "cell_type": "code",
   "execution_count": 165,
   "metadata": {
    "collapsed": false
   },
   "outputs": [],
   "source": [
    "teenDf = pd.read_csv(highSchoolUrl, index_col = \"Year\", parse_dates = True)\n",
    "teenTotalDf = teenDf.loc[teenDf['Gender'] == 'Total']\n",
    "teenMaleDf = teenDf.loc[teenDf['Gender'] == 'Male']\n",
    "teenFemaleDf = teenDf.loc[teenDf['Gender'] == 'Female']"
   ]
  },
  {
   "cell_type": "code",
   "execution_count": 166,
   "metadata": {
    "collapsed": false
   },
   "outputs": [
    {
     "data": {
      "text/html": [
       "<div>\n",
       "<table border=\"1\" class=\"dataframe\">\n",
       "  <thead>\n",
       "    <tr style=\"text-align: right;\">\n",
       "      <th></th>\n",
       "      <th>Percent Current Smokers</th>\n",
       "      <th>Lower 95% Confidence Interval</th>\n",
       "      <th>Upper 95% Confidence Interval</th>\n",
       "      <th>Number of Respondents</th>\n",
       "    </tr>\n",
       "  </thead>\n",
       "  <tbody>\n",
       "    <tr>\n",
       "      <th>count</th>\n",
       "      <td>6.000000</td>\n",
       "      <td>6.000000</td>\n",
       "      <td>6.000000</td>\n",
       "      <td>6.000000</td>\n",
       "    </tr>\n",
       "    <tr>\n",
       "      <th>mean</th>\n",
       "      <td>13.916667</td>\n",
       "      <td>12.883333</td>\n",
       "      <td>15.000000</td>\n",
       "      <td>19533.333333</td>\n",
       "    </tr>\n",
       "    <tr>\n",
       "      <th>std</th>\n",
       "      <td>1.960017</td>\n",
       "      <td>1.812641</td>\n",
       "      <td>2.071714</td>\n",
       "      <td>5130.129615</td>\n",
       "    </tr>\n",
       "    <tr>\n",
       "      <th>min</th>\n",
       "      <td>10.500000</td>\n",
       "      <td>9.700000</td>\n",
       "      <td>11.500000</td>\n",
       "      <td>11929.000000</td>\n",
       "    </tr>\n",
       "    <tr>\n",
       "      <th>25%</th>\n",
       "      <td>13.350000</td>\n",
       "      <td>12.450000</td>\n",
       "      <td>14.250000</td>\n",
       "      <td>16039.250000</td>\n",
       "    </tr>\n",
       "    <tr>\n",
       "      <th>50%</th>\n",
       "      <td>14.200000</td>\n",
       "      <td>13.050000</td>\n",
       "      <td>15.350000</td>\n",
       "      <td>21435.000000</td>\n",
       "    </tr>\n",
       "    <tr>\n",
       "      <th>75%</th>\n",
       "      <td>15.200000</td>\n",
       "      <td>14.175000</td>\n",
       "      <td>16.225000</td>\n",
       "      <td>22894.750000</td>\n",
       "    </tr>\n",
       "    <tr>\n",
       "      <th>max</th>\n",
       "      <td>16.000000</td>\n",
       "      <td>14.700000</td>\n",
       "      <td>17.400000</td>\n",
       "      <td>24779.000000</td>\n",
       "    </tr>\n",
       "  </tbody>\n",
       "</table>\n",
       "</div>"
      ],
      "text/plain": [
       "       Percent Current Smokers   Lower 95% Confidence Interval  \\\n",
       "count                  6.000000                       6.000000   \n",
       "mean                  13.916667                      12.883333   \n",
       "std                    1.960017                       1.812641   \n",
       "min                   10.500000                       9.700000   \n",
       "25%                   13.350000                      12.450000   \n",
       "50%                   14.200000                      13.050000   \n",
       "75%                   15.200000                      14.175000   \n",
       "max                   16.000000                      14.700000   \n",
       "\n",
       "       Upper 95% Confidence Interval   Number of Respondents  \n",
       "count                        6.000000               6.000000  \n",
       "mean                        15.000000           19533.333333  \n",
       "std                          2.071714            5130.129615  \n",
       "min                         11.500000           11929.000000  \n",
       "25%                         14.250000           16039.250000  \n",
       "50%                         15.350000           21435.000000  \n",
       "75%                         16.225000           22894.750000  \n",
       "max                         17.400000           24779.000000  "
      ]
     },
     "execution_count": 166,
     "metadata": {},
     "output_type": "execute_result"
    }
   ],
   "source": [
    "teenTotalDf.describe()"
   ]
  },
  {
   "cell_type": "code",
   "execution_count": 167,
   "metadata": {
    "collapsed": false
   },
   "outputs": [
    {
     "data": {
      "text/html": [
       "<div>\n",
       "<table border=\"1\" class=\"dataframe\">\n",
       "  <thead>\n",
       "    <tr style=\"text-align: right;\">\n",
       "      <th></th>\n",
       "      <th>Percent Current Smokers</th>\n",
       "      <th>Lower 95% Confidence Interval</th>\n",
       "      <th>Upper 95% Confidence Interval</th>\n",
       "      <th>Number of Respondents</th>\n",
       "    </tr>\n",
       "  </thead>\n",
       "  <tbody>\n",
       "    <tr>\n",
       "      <th>count</th>\n",
       "      <td>6.000000</td>\n",
       "      <td>6.000000</td>\n",
       "      <td>6.000000</td>\n",
       "      <td>6.000000</td>\n",
       "    </tr>\n",
       "    <tr>\n",
       "      <th>mean</th>\n",
       "      <td>14.883333</td>\n",
       "      <td>13.533333</td>\n",
       "      <td>16.283333</td>\n",
       "      <td>9634.833333</td>\n",
       "    </tr>\n",
       "    <tr>\n",
       "      <th>std</th>\n",
       "      <td>1.954908</td>\n",
       "      <td>1.830483</td>\n",
       "      <td>2.147945</td>\n",
       "      <td>2743.059782</td>\n",
       "    </tr>\n",
       "    <tr>\n",
       "      <th>min</th>\n",
       "      <td>12.300000</td>\n",
       "      <td>11.400000</td>\n",
       "      <td>13.200000</td>\n",
       "      <td>5627.000000</td>\n",
       "    </tr>\n",
       "    <tr>\n",
       "      <th>25%</th>\n",
       "      <td>13.350000</td>\n",
       "      <td>11.975000</td>\n",
       "      <td>14.800000</td>\n",
       "      <td>7692.000000</td>\n",
       "    </tr>\n",
       "    <tr>\n",
       "      <th>50%</th>\n",
       "      <td>15.300000</td>\n",
       "      <td>13.700000</td>\n",
       "      <td>16.750000</td>\n",
       "      <td>10698.000000</td>\n",
       "    </tr>\n",
       "    <tr>\n",
       "      <th>75%</th>\n",
       "      <td>16.275000</td>\n",
       "      <td>14.675000</td>\n",
       "      <td>18.100000</td>\n",
       "      <td>11541.000000</td>\n",
       "    </tr>\n",
       "    <tr>\n",
       "      <th>max</th>\n",
       "      <td>17.100000</td>\n",
       "      <td>16.000000</td>\n",
       "      <td>18.300000</td>\n",
       "      <td>12274.000000</td>\n",
       "    </tr>\n",
       "  </tbody>\n",
       "</table>\n",
       "</div>"
      ],
      "text/plain": [
       "       Percent Current Smokers   Lower 95% Confidence Interval  \\\n",
       "count                  6.000000                       6.000000   \n",
       "mean                  14.883333                      13.533333   \n",
       "std                    1.954908                       1.830483   \n",
       "min                   12.300000                      11.400000   \n",
       "25%                   13.350000                      11.975000   \n",
       "50%                   15.300000                      13.700000   \n",
       "75%                   16.275000                      14.675000   \n",
       "max                   17.100000                      16.000000   \n",
       "\n",
       "       Upper 95% Confidence Interval   Number of Respondents  \n",
       "count                        6.000000               6.000000  \n",
       "mean                        16.283333            9634.833333  \n",
       "std                          2.147945            2743.059782  \n",
       "min                         13.200000            5627.000000  \n",
       "25%                         14.800000            7692.000000  \n",
       "50%                         16.750000           10698.000000  \n",
       "75%                         18.100000           11541.000000  \n",
       "max                         18.300000           12274.000000  "
      ]
     },
     "execution_count": 167,
     "metadata": {},
     "output_type": "execute_result"
    }
   ],
   "source": [
    "teenMaleDf.describe()"
   ]
  },
  {
   "cell_type": "code",
   "execution_count": 168,
   "metadata": {
    "collapsed": false
   },
   "outputs": [
    {
     "data": {
      "text/html": [
       "<div>\n",
       "<table border=\"1\" class=\"dataframe\">\n",
       "  <thead>\n",
       "    <tr style=\"text-align: right;\">\n",
       "      <th></th>\n",
       "      <th>Percent Current Smokers</th>\n",
       "      <th>Lower 95% Confidence Interval</th>\n",
       "      <th>Upper 95% Confidence Interval</th>\n",
       "      <th>Number of Respondents</th>\n",
       "    </tr>\n",
       "  </thead>\n",
       "  <tbody>\n",
       "    <tr>\n",
       "      <th>count</th>\n",
       "      <td>6.000000</td>\n",
       "      <td>6.00000</td>\n",
       "      <td>6.000000</td>\n",
       "      <td>6.000000</td>\n",
       "    </tr>\n",
       "    <tr>\n",
       "      <th>mean</th>\n",
       "      <td>12.866667</td>\n",
       "      <td>11.55000</td>\n",
       "      <td>14.266667</td>\n",
       "      <td>9898.500000</td>\n",
       "    </tr>\n",
       "    <tr>\n",
       "      <th>std</th>\n",
       "      <td>3.222835</td>\n",
       "      <td>2.92831</td>\n",
       "      <td>3.522310</td>\n",
       "      <td>2392.950877</td>\n",
       "    </tr>\n",
       "    <tr>\n",
       "      <th>min</th>\n",
       "      <td>8.000000</td>\n",
       "      <td>7.20000</td>\n",
       "      <td>9.000000</td>\n",
       "      <td>6302.000000</td>\n",
       "    </tr>\n",
       "    <tr>\n",
       "      <th>25%</th>\n",
       "      <td>11.300000</td>\n",
       "      <td>10.10000</td>\n",
       "      <td>12.500000</td>\n",
       "      <td>8347.250000</td>\n",
       "    </tr>\n",
       "    <tr>\n",
       "      <th>50%</th>\n",
       "      <td>12.800000</td>\n",
       "      <td>11.45000</td>\n",
       "      <td>14.150000</td>\n",
       "      <td>10737.000000</td>\n",
       "    </tr>\n",
       "    <tr>\n",
       "      <th>75%</th>\n",
       "      <td>15.200000</td>\n",
       "      <td>13.62500</td>\n",
       "      <td>17.000000</td>\n",
       "      <td>11353.750000</td>\n",
       "    </tr>\n",
       "    <tr>\n",
       "      <th>max</th>\n",
       "      <td>16.800000</td>\n",
       "      <td>15.20000</td>\n",
       "      <td>18.400000</td>\n",
       "      <td>12505.000000</td>\n",
       "    </tr>\n",
       "  </tbody>\n",
       "</table>\n",
       "</div>"
      ],
      "text/plain": [
       "       Percent Current Smokers   Lower 95% Confidence Interval  \\\n",
       "count                  6.000000                        6.00000   \n",
       "mean                  12.866667                       11.55000   \n",
       "std                    3.222835                        2.92831   \n",
       "min                    8.000000                        7.20000   \n",
       "25%                   11.300000                       10.10000   \n",
       "50%                   12.800000                       11.45000   \n",
       "75%                   15.200000                       13.62500   \n",
       "max                   16.800000                       15.20000   \n",
       "\n",
       "       Upper 95% Confidence Interval   Number of Respondents  \n",
       "count                        6.000000               6.000000  \n",
       "mean                        14.266667            9898.500000  \n",
       "std                          3.522310            2392.950877  \n",
       "min                          9.000000            6302.000000  \n",
       "25%                         12.500000            8347.250000  \n",
       "50%                         14.150000           10737.000000  \n",
       "75%                         17.000000           11353.750000  \n",
       "max                         18.400000           12505.000000  "
      ]
     },
     "execution_count": 168,
     "metadata": {},
     "output_type": "execute_result"
    }
   ],
   "source": [
    "teenFemaleDf.describe()"
   ]
  },
  {
   "cell_type": "code",
   "execution_count": 169,
   "metadata": {
    "collapsed": false
   },
   "outputs": [
    {
     "data": {
      "text/plain": [
       "<matplotlib.legend.Legend at 0xec447f0>"
      ]
     },
     "execution_count": 169,
     "metadata": {},
     "output_type": "execute_result"
    },
    {
     "data": {
      "image/png": "[encoded data removed]",
      "text/plain": [
       "<matplotlib.figure.Figure at 0xebe6e48>"
      ]
     },
     "metadata": {},
     "output_type": "display_data"
    }
   ],
   "source": [
    "teenTotalPlot = teenTotalDf[['Percent Current Smokers ']].plot()\n",
    "teenMalePlot = teenMaleDf[['Percent Current Smokers ']].plot(ax = teenTotalPlot)\n",
    "teenFemalePlot = teenFemaleDf[['Percent Current Smokers ']].plot(ax = teenMalePlot)\n",
    "handles, labels = teenFemalePlot.get_legend_handles_labels()\n",
    "teenFemalePlot.legend(handles, ['Total', 'Male', 'Female'])"
   ]
  },
  {
   "cell_type": "code",
   "execution_count": 176,
   "metadata": {
    "collapsed": false
   },
   "outputs": [
    {
     "data": {
      "text/html": [
       "<div>\n",
       "<table border=\"1\" class=\"dataframe\">\n",
       "  <thead>\n",
       "    <tr style=\"text-align: right;\">\n",
       "      <th></th>\n",
       "      <th>% Illegal Tobacco Sales to Minors</th>\n",
       "      <th>Lower 95% Confidence Interval</th>\n",
       "      <th>Upper 95% Confidence Interval</th>\n",
       "    </tr>\n",
       "  </thead>\n",
       "  <tbody>\n",
       "    <tr>\n",
       "      <th>count</th>\n",
       "      <td>18.000000</td>\n",
       "      <td>18.000000</td>\n",
       "      <td>18.000000</td>\n",
       "    </tr>\n",
       "    <tr>\n",
       "      <th>mean</th>\n",
       "      <td>12.261111</td>\n",
       "      <td>9.722222</td>\n",
       "      <td>14.827778</td>\n",
       "    </tr>\n",
       "    <tr>\n",
       "      <th>std</th>\n",
       "      <td>4.329535</td>\n",
       "      <td>3.803490</td>\n",
       "      <td>4.880791</td>\n",
       "    </tr>\n",
       "    <tr>\n",
       "      <th>min</th>\n",
       "      <td>5.600000</td>\n",
       "      <td>4.000000</td>\n",
       "      <td>7.200000</td>\n",
       "    </tr>\n",
       "    <tr>\n",
       "      <th>25%</th>\n",
       "      <td>8.775000</td>\n",
       "      <td>6.775000</td>\n",
       "      <td>11.025000</td>\n",
       "    </tr>\n",
       "    <tr>\n",
       "      <th>50%</th>\n",
       "      <td>12.350000</td>\n",
       "      <td>9.450000</td>\n",
       "      <td>15.000000</td>\n",
       "    </tr>\n",
       "    <tr>\n",
       "      <th>75%</th>\n",
       "      <td>13.800000</td>\n",
       "      <td>11.275000</td>\n",
       "      <td>16.425000</td>\n",
       "    </tr>\n",
       "    <tr>\n",
       "      <th>max</th>\n",
       "      <td>21.700000</td>\n",
       "      <td>17.900000</td>\n",
       "      <td>25.500000</td>\n",
       "    </tr>\n",
       "  </tbody>\n",
       "</table>\n",
       "</div>"
      ],
      "text/plain": [
       "       % Illegal Tobacco Sales to Minors  Lower 95% Confidence Interval  \\\n",
       "count                          18.000000                      18.000000   \n",
       "mean                           12.261111                       9.722222   \n",
       "std                             4.329535                       3.803490   \n",
       "min                             5.600000                       4.000000   \n",
       "25%                             8.775000                       6.775000   \n",
       "50%                            12.350000                       9.450000   \n",
       "75%                            13.800000                      11.275000   \n",
       "max                            21.700000                      17.900000   \n",
       "\n",
       "       Upper 95% Confidence Interval  \n",
       "count                      18.000000  \n",
       "mean                       14.827778  \n",
       "std                         4.880791  \n",
       "min                         7.200000  \n",
       "25%                        11.025000  \n",
       "50%                        15.000000  \n",
       "75%                        16.425000  \n",
       "max                        25.500000  "
      ]
     },
     "execution_count": 176,
     "metadata": {},
     "output_type": "execute_result"
    }
   ],
   "source": [
    "salesDf = pd.read_csv(minorSalesUrl, index_col = \"Year\", parse_dates = True)\n",
    "salesDf.describe()"
   ]
  },
  {
   "cell_type": "code",
   "execution_count": 177,
   "metadata": {
    "collapsed": false
   },
   "outputs": [
    {
     "data": {
      "text/plain": [
       "<matplotlib.axes._subplots.AxesSubplot at 0xed8ba20>"
      ]
     },
     "execution_count": 177,
     "metadata": {},
     "output_type": "execute_result"
    },
    {
     "data": {
      "image/png": "[encoded data removed]",
      "text/plain": [
       "<matplotlib.figure.Figure at 0xed62ba8>"
      ]
     },
     "metadata": {},
     "output_type": "display_data"
    }
   ],
   "source": [
    "salesDf[['% Illegal Tobacco Sales to Minors']].plot()"
   ]
  },
  {
   "cell_type": "code",
   "execution_count": 185,
   "metadata": {
    "collapsed": false
   },
   "outputs": [
    {
     "data": {
      "text/plain": [
       "<matplotlib.legend.Legend at 0xeeca6a0>"
      ]
     },
     "execution_count": 185,
     "metadata": {},
     "output_type": "execute_result"
    },
    {
     "data": {
      "image/png": "[encoded data removed]",
      "text/plain": [
       "<matplotlib.figure.Figure at 0xeeca2e8>"
      ]
     },
     "metadata": {},
     "output_type": "display_data"
    }
   ],
   "source": [
    "teenTotalPlot = teenTotalDf[['Percent Current Smokers ']].plot()\n",
    "salesPlot = salesDf[['% Illegal Tobacco Sales to Minors']].plot(ax = teenTotalPlot)\n",
    "handles, labels = salesPlot.get_legend_handles_labels()\n",
    "salesPlot.legend(handles, ['Percent Current Teen Smokers', 'Percent Illegal Tobacco Sales to Minors'])"
   ]
  },
  {
   "cell_type": "code",
   "execution_count": null,
   "metadata": {
    "collapsed": true
   },
   "outputs": [],
   "source": []
  }
 ],
 "metadata": {
  "kernelspec": {
   "display_name": "Python 3",
   "language": "python",
   "name": "python3"
  },
  "language_info": {
   "codemirror_mode": {
    "name": "ipython",
    "version": 3
   },
   "file_extension": ".py",
   "mimetype": "text/x-python",
   "name": "python",
   "nbconvert_exporter": "python",
   "pygments_lexer": "ipython3",
   "version": "3.4.3"
  }
 },
 "nbformat": 4,
 "nbformat_minor": 0
}
