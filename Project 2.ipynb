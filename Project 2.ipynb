{
 "cells": [
  {
   "cell_type": "code",
   "execution_count": 66,
   "metadata": {
    "collapsed": true
   },
   "outputs": [],
   "source": [
    "import numpy as np\n",
    "import pandas as pd\n",
    "import matplotlib.pyplot as plt\n",
    "%matplotlib inline"
   ]
  },
  {
   "cell_type": "code",
   "execution_count": 67,
   "metadata": {
    "collapsed": true
   },
   "outputs": [],
   "source": [
    "url = \"./Smoking_Prevalence_in_Adults__1984-2013.csv\""
   ]
  },
  {
   "cell_type": "code",
   "execution_count": 68,
   "metadata": {
    "collapsed": false
   },
   "outputs": [],
   "source": [
    "df = pd.read_csv(url, index_col = \"Year\", parse_dates = True)"
   ]
  },
  {
   "cell_type": "code",
   "execution_count": 69,
   "metadata": {
    "collapsed": false
   },
   "outputs": [
    {
     "data": {
      "text/html": [
       "<div>\n",
       "<table border=\"1\" class=\"dataframe\">\n",
       "  <thead>\n",
       "    <tr style=\"text-align: right;\">\n",
       "      <th></th>\n",
       "      <th>Percentage of  Current Smokers</th>\n",
       "      <th>Lower 95% Confidence Interval</th>\n",
       "      <th>Upper 95% Confidence Interval</th>\n",
       "      <th>Number of Respondents</th>\n",
       "    </tr>\n",
       "  </thead>\n",
       "  <tbody>\n",
       "    <tr>\n",
       "      <th>count</th>\n",
       "      <td>90.000000</td>\n",
       "      <td>90.000000</td>\n",
       "      <td>90.000000</td>\n",
       "      <td>90.000000</td>\n",
       "    </tr>\n",
       "    <tr>\n",
       "      <th>mean</th>\n",
       "      <td>0.172344</td>\n",
       "      <td>0.158967</td>\n",
       "      <td>0.186211</td>\n",
       "      <td>5436.022222</td>\n",
       "    </tr>\n",
       "    <tr>\n",
       "      <th>std</th>\n",
       "      <td>0.046614</td>\n",
       "      <td>0.039939</td>\n",
       "      <td>0.053192</td>\n",
       "      <td>4020.946258</td>\n",
       "    </tr>\n",
       "    <tr>\n",
       "      <th>min</th>\n",
       "      <td>0.085000</td>\n",
       "      <td>0.077000</td>\n",
       "      <td>0.092000</td>\n",
       "      <td>449.000000</td>\n",
       "    </tr>\n",
       "    <tr>\n",
       "      <th>25%</th>\n",
       "      <td>0.139000</td>\n",
       "      <td>0.129750</td>\n",
       "      <td>0.149000</td>\n",
       "      <td>2404.500000</td>\n",
       "    </tr>\n",
       "    <tr>\n",
       "      <th>50%</th>\n",
       "      <td>0.170500</td>\n",
       "      <td>0.159000</td>\n",
       "      <td>0.180000</td>\n",
       "      <td>4590.000000</td>\n",
       "    </tr>\n",
       "    <tr>\n",
       "      <th>75%</th>\n",
       "      <td>0.201750</td>\n",
       "      <td>0.188000</td>\n",
       "      <td>0.220000</td>\n",
       "      <td>8142.500000</td>\n",
       "    </tr>\n",
       "    <tr>\n",
       "      <th>max</th>\n",
       "      <td>0.282000</td>\n",
       "      <td>0.246000</td>\n",
       "      <td>0.318000</td>\n",
       "      <td>17486.000000</td>\n",
       "    </tr>\n",
       "  </tbody>\n",
       "</table>\n",
       "</div>"
      ],
      "text/plain": [
       "       Percentage of  Current Smokers  Lower 95% Confidence Interval  \\\n",
       "count                       90.000000                      90.000000   \n",
       "mean                         0.172344                       0.158967   \n",
       "std                          0.046614                       0.039939   \n",
       "min                          0.085000                       0.077000   \n",
       "25%                          0.139000                       0.129750   \n",
       "50%                          0.170500                       0.159000   \n",
       "75%                          0.201750                       0.188000   \n",
       "max                          0.282000                       0.246000   \n",
       "\n",
       "       Upper 95% Confidence Interval  Number of Respondents  \n",
       "count                      90.000000              90.000000  \n",
       "mean                        0.186211            5436.022222  \n",
       "std                         0.053192            4020.946258  \n",
       "min                         0.092000             449.000000  \n",
       "25%                         0.149000            2404.500000  \n",
       "50%                         0.180000            4590.000000  \n",
       "75%                         0.220000            8142.500000  \n",
       "max                         0.318000           17486.000000  "
      ]
     },
     "execution_count": 69,
     "metadata": {},
     "output_type": "execute_result"
    }
   ],
   "source": [
    "df.describe()"
   ]
  },
  {
   "cell_type": "code",
   "execution_count": 80,
   "metadata": {
    "collapsed": false
   },
   "outputs": [
    {
     "data": {
      "text/plain": [
       "<matplotlib.legend.Legend at 0xc0391d0>"
      ]
     },
     "execution_count": 80,
     "metadata": {},
     "output_type": "execute_result"
    },
    {
     "data": {
      "image/png": "[encoded data removed]",
      "text/plain": [
       "<matplotlib.figure.Figure at 0xc0392b0>"
      ]
     },
     "metadata": {},
     "output_type": "display_data"
    }
   ],
   "source": [
    "totalDf = df.loc[df['Gender'] == 'Total']\n",
    "maleDf = df.loc[df['Gender'] == 'Male']\n",
    "femaleDf = df.loc[df['Gender'] == 'Female']\n",
    "tot = totalDf[['Percentage of  Current Smokers']].plot()\n",
    "male = maleDf[['Percentage of  Current Smokers']].plot(ax = tot)\n",
    "female = femaleDf[['Percentage of  Current Smokers']].plot(ax = male)\n",
    "handles, labels = female.get_legend_handles_labels()\n",
    "female.legend(handles, ['Total', 'Male', 'Female'])"
   ]
  },
  {
   "cell_type": "code",
   "execution_count": null,
   "metadata": {
    "collapsed": true
   },
   "outputs": [],
   "source": []
  }
 ],
 "metadata": {
  "kernelspec": {
   "display_name": "Python 3",
   "language": "python",
   "name": "python3"
  },
  "language_info": {
   "codemirror_mode": {
    "name": "ipython",
    "version": 3
   },
   "file_extension": ".py",
   "mimetype": "text/x-python",
   "name": "python",
   "nbconvert_exporter": "python",
   "pygments_lexer": "ipython3",
   "version": "3.4.3"
  }
 },
 "nbformat": 4,
 "nbformat_minor": 0
}
