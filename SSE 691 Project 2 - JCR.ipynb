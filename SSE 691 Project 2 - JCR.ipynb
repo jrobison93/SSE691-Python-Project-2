{
 "cells": [
  {
   "cell_type": "markdown",
   "metadata": {},
   "source": [
    "#SSE 691 Project 2 - Engineering Data Visualization\n",
    "John Robison\n",
    "\n",
    "Mercer University\n",
    "\n",
    "\n"
   ]
  },
  {
   "cell_type": "markdown",
   "metadata": {},
   "source": [
    "##Table of Contents\n",
    "\n",
    "1. [Introduction](#introduction)\n",
    "2. [Analysis of Smoking Prevalence in California](#analysis)\n",
    "  1. [Prevalence of Smoking in Adults](#smokingAdults)\n",
    "  2. [Prevalence of Smoking in Teens](#smokingTeens)\n",
    "  3. [Illegal Sale of Tobacco to Minors](#illegalSales)\n",
    "3. [Conclusion](#conclusion)"
   ]
  },
  {
   "cell_type": "markdown",
   "metadata": {},
   "source": [
    "##Introduction <a id='introduction'></a>"
   ]
  },
  {
   "cell_type": "markdown",
   "metadata": {},
   "source": [
    "The purpose of this project is to become familiar with the use of IPython notebooks (now known as Jupyter) to create an interactive way of presenting data analysis and visualization. To aid in this, the Numpy, Pandas, and Matplotlib libraries were utilized. Numpy provides an interface for performing fast and powerful multidimensional array computation and manipulation. Pandas is a library that provides structures and functions for manipulating data as well as provides a means to visualize this data. Matplotlib was used to further visualize the data. \n",
    "\n",
    "This project required the usage of the first chapter of _IPython Interactive Computing and Visualization Cookbook_ written by Cyrille Rossant to provide a background in the operation of these libaries. The example notebooks presented in this chapter were used as a reference for the creating of an original data analysis and visualization project that explored the prevalence of smoking in California, which is provided below. "
   ]
  },
  {
   "cell_type": "markdown",
   "metadata": {},
   "source": [
    "##Analysis of Smoking Prevalence in California <a id='analysis'></a>\n",
    "\n",
    "Smoking is a great concern in today's society as it has been shown to be detrimental to the health of human beings. Among the health risks are the chances of mouth and lung cancer, the restriction of blood flow, tooth decay. Many efforts have been made to reduce the number of smokers in America, such as D.A.R.E. and Truth. This report aims to analyze the changes in the prevalence of smoking by analyzing data from California reports. \n",
    "\n",
    "\n",
    "\n",
    "\n",
    "The data used in this notebook was acquired from catalog.data.gov and minor modifications were made to enable to data to work properly in the following sections."
   ]
  },
  {
   "cell_type": "code",
   "execution_count": 22,
   "metadata": {
    "collapsed": false
   },
   "outputs": [],
   "source": [
    "import numpy as np\n",
    "import pandas as pd\n",
    "import matplotlib.pyplot as plt\n",
    "from IPython.html.widgets import interact\n",
    "\n",
    "%matplotlib inline"
   ]
  },
  {
   "cell_type": "code",
   "execution_count": 23,
   "metadata": {
    "collapsed": true
   },
   "outputs": [],
   "source": [
    "adultUrl = \"./Smoking_Prevalence_in_Adults__1984-2013.csv\"\n",
    "highSchoolUrl = \"./Smoking_Prevalence_in_High_School__2001-2012.csv\"\n",
    "minorSalesUrl = \"./Tobacco_Sold_to_Minors__California__1997-2014.csv\""
   ]
  },
  {
   "cell_type": "markdown",
   "metadata": {},
   "source": [
    "###Prevalence of Smoking in Adults <a id='smokingAdults'></a>\n"
   ]
  },
  {
   "cell_type": "markdown",
   "metadata": {},
   "source": [
    "Adult smokers have often been smoking for an extended period of time and thus are at a higher risk for experiencing many of the undesirable health effects associated with smoking than that of younger smokers. This section aims to analyze the rate of change of the prevalence of adults who smoke. These rates will be displayed for the total population as well as for males and females to show the correlation that gender holds. "
   ]
  },
  {
   "cell_type": "code",
   "execution_count": 24,
   "metadata": {
    "collapsed": false
   },
   "outputs": [],
   "source": [
    "adultDf = pd.read_csv(adultUrl, index_col = \"Year\", parse_dates = True)\n",
    "adultTotalDf = adultDf.loc[adultDf['Gender'] == 'Total']\n",
    "adultMaleDf = adultDf.loc[adultDf['Gender'] == 'Male']\n",
    "adultFemaleDf = adultDf.loc[adultDf['Gender'] == 'Female']"
   ]
  },
  {
   "cell_type": "markdown",
   "metadata": {},
   "source": [
    "The interactive widget below allows for the comparison of the percentage of the population of California who smoke. This widget is gender neutral. The two sliders, minYear and maxYear, allow for the display of a range of years' worth of data. However, if the maxYear value is lower than or equal to the minYear value then only the maxYear value will be displayed. "
   ]
  },
  {
   "cell_type": "code",
   "execution_count": 25,
   "metadata": {
    "collapsed": false
   },
   "outputs": [
    {
     "name": "stdout",
     "output_type": "stream",
     "text": [
      "       Percentage of  Current Smokers  Lower 95% Confidence Interval  \\\n",
      "count                             1.0                            1.0   \n",
      "mean                             17.5                           16.6   \n",
      "std                               NaN                            NaN   \n",
      "min                              17.5                           16.6   \n",
      "25%                              17.5                           16.6   \n",
      "50%                              17.5                           16.6   \n",
      "75%                              17.5                           16.6   \n",
      "max                              17.5                           16.6   \n",
      "\n",
      "       Upper 95% Confidence Interval  \n",
      "count                            1.0  \n",
      "mean                            18.3  \n",
      "std                              NaN  \n",
      "min                             18.3  \n",
      "25%                             18.3  \n",
      "50%                             18.3  \n",
      "75%                             18.3  \n",
      "max                             18.3  \n"
     ]
    }
   ],
   "source": [
    "@interact\n",
    "def describe(minYear=(1984, 2013), maxYear=(1984, 2013)):\n",
    "    if(maxYear < minYear):\n",
    "        minYear = maxYear\n",
    "    print(adultTotalDf[adultTotalDf.index.map(lambda x: x.year >= minYear and x.year <= maxYear)]\n",
    "          [['Percentage of  Current Smokers', 'Lower 95% Confidence Interval', 'Upper 95% Confidence Interval']].describe())"
   ]
  },
  {
   "cell_type": "markdown",
   "metadata": {},
   "source": [
    "The interactive widget below allows for the comparison of the percentage of the population of California who smoke. This widget is specific to the male population. The two sliders, minYear and maxYear, allow for the display of a range of years' worth of data. However, if the maxYear value is lower than or equal to the minYear value then only the maxYear value will be displayed. \n",
    "\n",
    "It is shown that, on average, males are more likely to smoke than the total population is."
   ]
  },
  {
   "cell_type": "code",
   "execution_count": 26,
   "metadata": {
    "collapsed": false
   },
   "outputs": [
    {
     "name": "stdout",
     "output_type": "stream",
     "text": [
      "       Percentage of  Current Smokers  Lower 95% Confidence Interval  \\\n",
      "count                             1.0                            1.0   \n",
      "mean                             20.6                           19.3   \n",
      "std                               NaN                            NaN   \n",
      "min                              20.6                           19.3   \n",
      "25%                              20.6                           19.3   \n",
      "50%                              20.6                           19.3   \n",
      "75%                              20.6                           19.3   \n",
      "max                              20.6                           19.3   \n",
      "\n",
      "       Upper 95% Confidence Interval  \n",
      "count                              1  \n",
      "mean                              22  \n",
      "std                              NaN  \n",
      "min                               22  \n",
      "25%                               22  \n",
      "50%                               22  \n",
      "75%                               22  \n",
      "max                               22  \n"
     ]
    }
   ],
   "source": [
    "@interact\n",
    "def describe(minYear=(1984, 2013), maxYear=(1984, 2013)):\n",
    "    if(maxYear < minYear):\n",
    "        minYear = maxYear\n",
    "    print(adultMaleDf[adultMaleDf.index.map(lambda x: x.year >= minYear and x.year <= maxYear)]\n",
    "          [['Percentage of  Current Smokers', 'Lower 95% Confidence Interval', 'Upper 95% Confidence Interval']].describe())"
   ]
  },
  {
   "cell_type": "markdown",
   "metadata": {},
   "source": [
    "The interactive widget below allows for the comparison of the percentage of the population of California who smoke. This widget is specific to the female population. The two sliders, minYear and maxYear, allow for the display of a range of years' worth of data. However, if the maxYear value is lower than or equal to the minYear value then only the maxYear value will be displayed. \n",
    "\n",
    "It is shown that, on average, females are less likely to smoke than the total population is."
   ]
  },
  {
   "cell_type": "code",
   "execution_count": 27,
   "metadata": {
    "collapsed": false
   },
   "outputs": [
    {
     "name": "stdout",
     "output_type": "stream",
     "text": [
      "       Percentage of  Current Smokers  Lower 95% Confidence Interval  \\\n",
      "count                             1.0                            1.0   \n",
      "mean                             14.4                           13.4   \n",
      "std                               NaN                            NaN   \n",
      "min                              14.4                           13.4   \n",
      "25%                              14.4                           13.4   \n",
      "50%                              14.4                           13.4   \n",
      "75%                              14.4                           13.4   \n",
      "max                              14.4                           13.4   \n",
      "\n",
      "       Upper 95% Confidence Interval  \n",
      "count                            1.0  \n",
      "mean                            15.4  \n",
      "std                              NaN  \n",
      "min                             15.4  \n",
      "25%                             15.4  \n",
      "50%                             15.4  \n",
      "75%                             15.4  \n",
      "max                             15.4  \n"
     ]
    }
   ],
   "source": [
    "@interact\n",
    "def describe(minYear=(1984, 2013), maxYear=(1984, 2013)):\n",
    "    if(maxYear < minYear):\n",
    "        minYear = maxYear\n",
    "    print(adultFemaleDf[adultFemaleDf.index.map(lambda x: x.year >= minYear and x.year <= maxYear)]\n",
    "          [['Percentage of  Current Smokers', 'Lower 95% Confidence Interval', 'Upper 95% Confidence Interval']].describe())"
   ]
  },
  {
   "cell_type": "markdown",
   "metadata": {},
   "source": [
    "To provide a side-by-side comparison of this data, the average values for the total, male, and female populations shown above were compiled into a single table. This table simplifies the comparison process."
   ]
  },
  {
   "cell_type": "code",
   "execution_count": 28,
   "metadata": {
    "collapsed": false
   },
   "outputs": [
    {
     "data": {
      "text/html": [
       "<div>\n",
       "<table border=\"1\" class=\"dataframe\">\n",
       "  <thead>\n",
       "    <tr style=\"text-align: right;\">\n",
       "      <th></th>\n",
       "      <th>Total</th>\n",
       "      <th>Male</th>\n",
       "      <th>Female</th>\n",
       "    </tr>\n",
       "  </thead>\n",
       "  <tbody>\n",
       "    <tr>\n",
       "      <th>count</th>\n",
       "      <td>30.000000</td>\n",
       "      <td>30.000000</td>\n",
       "      <td>30.000000</td>\n",
       "    </tr>\n",
       "    <tr>\n",
       "      <th>mean</th>\n",
       "      <td>17.226667</td>\n",
       "      <td>19.986667</td>\n",
       "      <td>14.543333</td>\n",
       "    </tr>\n",
       "    <tr>\n",
       "      <th>std</th>\n",
       "      <td>4.099111</td>\n",
       "      <td>3.709887</td>\n",
       "      <td>4.535126</td>\n",
       "    </tr>\n",
       "    <tr>\n",
       "      <th>min</th>\n",
       "      <td>11.700000</td>\n",
       "      <td>14.700000</td>\n",
       "      <td>8.500000</td>\n",
       "    </tr>\n",
       "    <tr>\n",
       "      <th>25%</th>\n",
       "      <td>13.850000</td>\n",
       "      <td>17.200000</td>\n",
       "      <td>10.800000</td>\n",
       "    </tr>\n",
       "    <tr>\n",
       "      <th>50%</th>\n",
       "      <td>16.500000</td>\n",
       "      <td>19.300000</td>\n",
       "      <td>13.900000</td>\n",
       "    </tr>\n",
       "    <tr>\n",
       "      <th>75%</th>\n",
       "      <td>19.350000</td>\n",
       "      <td>22.000000</td>\n",
       "      <td>17.300000</td>\n",
       "    </tr>\n",
       "    <tr>\n",
       "      <th>max</th>\n",
       "      <td>26.700000</td>\n",
       "      <td>28.200000</td>\n",
       "      <td>25.200000</td>\n",
       "    </tr>\n",
       "  </tbody>\n",
       "</table>\n",
       "</div>"
      ],
      "text/plain": [
       "           Total       Male     Female\n",
       "count  30.000000  30.000000  30.000000\n",
       "mean   17.226667  19.986667  14.543333\n",
       "std     4.099111   3.709887   4.535126\n",
       "min    11.700000  14.700000   8.500000\n",
       "25%    13.850000  17.200000  10.800000\n",
       "50%    16.500000  19.300000  13.900000\n",
       "75%    19.350000  22.000000  17.300000\n",
       "max    26.700000  28.200000  25.200000"
      ]
     },
     "execution_count": 28,
     "metadata": {},
     "output_type": "execute_result"
    }
   ],
   "source": [
    "pd.concat([adultTotalDf[['Percentage of  Current Smokers']].rename(columns={'Percentage of  Current Smokers' : 'Total'}),\n",
    "         adultMaleDf[['Percentage of  Current Smokers']].rename(columns={'Percentage of  Current Smokers' : 'Male'}),\n",
    "         adultFemaleDf[['Percentage of  Current Smokers']].rename(columns={'Percentage of  Current Smokers' : 'Female'})], \n",
    "          axis = 1).describe()"
   ]
  },
  {
   "cell_type": "markdown",
   "metadata": {},
   "source": [
    "However, this comparison is better visualized in the line graph provided below. It is shown that for all years males were more likely to smoke than the total population and females were less likely to smoke than the total population. This shows that gender is a factor in determining the probability of whether an individual is likely to smoke. This can be useful in determining health or life insurance premiums or even for the targeting of anti-smoking campaigns. "
   ]
  },
  {
   "cell_type": "code",
   "execution_count": 29,
   "metadata": {
    "collapsed": false
   },
   "outputs": [
    {
     "data": {
      "text/plain": [
       "<matplotlib.legend.Legend at 0x9144d68>"
      ]
     },
     "execution_count": 29,
     "metadata": {},
     "output_type": "execute_result"
    },
    {
     "data": {
      "image/png": "[encoded data removed]",
      "text/plain": [
       "<matplotlib.figure.Figure at 0x9132da0>"
      ]
     },
     "metadata": {},
     "output_type": "display_data"
    }
   ],
   "source": [
    "adultTotalPlot = adultTotalDf[['Percentage of  Current Smokers']].plot()\n",
    "adultMalePlot = adultMaleDf[['Percentage of  Current Smokers']].plot(ax = adultTotalPlot)\n",
    "adultFemalePlot = adultFemaleDf[['Percentage of  Current Smokers']].plot(ax = adultMalePlot)\n",
    "handles, labels = adultFemalePlot.get_legend_handles_labels()\n",
    "adultFemalePlot.legend(handles, ['Total', 'Male', 'Female'])"
   ]
  },
  {
   "cell_type": "markdown",
   "metadata": {},
   "source": [
    "###Prevalence of Smoking in Teens <a id='smokingTeens'></a>\n"
   ]
  },
  {
   "cell_type": "markdown",
   "metadata": {},
   "source": [
    "Teenaged smokers have been smoking for a shorter amount of time than that of adult smokers, however non-smoking teenagers are at a higher risk of starting smoking than non-smoking adults. To combat this, there have been many campaigns such as D.A.R.E. that aim to raise awareness of the negative effects of smoking. This section will analyze the rate of change in the prevalence of smoking in California teenagers. As with the previous section, these rates will be examined for the total population as well as for that of males and females."
   ]
  },
  {
   "cell_type": "code",
   "execution_count": 30,
   "metadata": {
    "collapsed": false
   },
   "outputs": [],
   "source": [
    "teenDf = pd.read_csv(highSchoolUrl, index_col = \"Year\", parse_dates = True)\n",
    "teenTotalDf = teenDf.loc[teenDf['Gender'] == 'Total']\n",
    "teenMaleDf = teenDf.loc[teenDf['Gender'] == 'Male']\n",
    "teenFemaleDf = teenDf.loc[teenDf['Gender'] == 'Female']"
   ]
  },
  {
   "cell_type": "markdown",
   "metadata": {},
   "source": [
    "The interactive widget below allows for the comparison of the percentage of California teenagers who smoke. This widget is gender neutral. The two sliders, minYear and maxYear, allow for the display of a range of years' worth of data. However, if the maxYear value is lower than or equal to the minYear value then only the maxYear value will be displayed. "
   ]
  },
  {
   "cell_type": "code",
   "execution_count": 31,
   "metadata": {
    "collapsed": false
   },
   "outputs": [
    {
     "name": "stdout",
     "output_type": "stream",
     "text": [
      "       Percent Current Smokers   Lower 95% Confidence Interval  \\\n",
      "count                       1.0                            1.0   \n",
      "mean                       15.4                           14.4   \n",
      "std                         NaN                            NaN   \n",
      "min                        15.4                           14.4   \n",
      "25%                        15.4                           14.4   \n",
      "50%                        15.4                           14.4   \n",
      "75%                        15.4                           14.4   \n",
      "max                        15.4                           14.4   \n",
      "\n",
      "       Upper 95% Confidence Interval   \n",
      "count                             1.0  \n",
      "mean                             16.4  \n",
      "std                               NaN  \n",
      "min                              16.4  \n",
      "25%                              16.4  \n",
      "50%                              16.4  \n",
      "75%                              16.4  \n",
      "max                              16.4  \n"
     ]
    }
   ],
   "source": [
    "@interact\n",
    "def describe(minYear=(2001, 2011, 2), maxYear=(2001, 2011, 2)):\n",
    "    if(maxYear < minYear):\n",
    "        minYear = maxYear\n",
    "    print(teenTotalDf[teenTotalDf.index.map(lambda x: x.year >= minYear and x.year <= maxYear)]\n",
    "          [['Percent Current Smokers ', 'Lower 95% Confidence Interval', 'Upper 95% Confidence Interval ']].describe())"
   ]
  },
  {
   "cell_type": "markdown",
   "metadata": {},
   "source": [
    "The interactive widget below allows for the comparison of the percentage of California teenagers who smoke. This widget is specific to male California teenagers. The two sliders, minYear and maxYear, allow for the display of a range of years' worth of data. However, if the maxYear value is lower than or equal to the minYear value then only the maxYear value will be displayed. "
   ]
  },
  {
   "cell_type": "code",
   "execution_count": 32,
   "metadata": {
    "collapsed": false
   },
   "outputs": [
    {
     "name": "stdout",
     "output_type": "stream",
     "text": [
      "       Percent Current Smokers   Lower 95% Confidence Interval  \\\n",
      "count                       1.0                              1   \n",
      "mean                       17.1                             16   \n",
      "std                         NaN                            NaN   \n",
      "min                        17.1                             16   \n",
      "25%                        17.1                             16   \n",
      "50%                        17.1                             16   \n",
      "75%                        17.1                             16   \n",
      "max                        17.1                             16   \n",
      "\n",
      "       Upper 95% Confidence Interval   \n",
      "count                             1.0  \n",
      "mean                             18.2  \n",
      "std                               NaN  \n",
      "min                              18.2  \n",
      "25%                              18.2  \n",
      "50%                              18.2  \n",
      "75%                              18.2  \n",
      "max                              18.2  \n"
     ]
    }
   ],
   "source": [
    "@interact\n",
    "def describe(minYear=(2001, 2011, 2), maxYear=(2001, 2011, 2)):\n",
    "    if(maxYear < minYear):\n",
    "        minYear = maxYear\n",
    "    print(teenMaleDf[teenMaleDf.index.map(lambda x: x.year >= minYear and x.year <= maxYear)]\n",
    "          [['Percent Current Smokers ', 'Lower 95% Confidence Interval', 'Upper 95% Confidence Interval ']].describe())"
   ]
  },
  {
   "cell_type": "markdown",
   "metadata": {},
   "source": [
    "The interactive widget below allows for the comparison of the percentage of California teenagers who smoke. This widget is specific to female California teenagers. The two sliders, minYear and maxYear, allow for the display of a range of years' worth of data. However, if the maxYear value is lower than or equal to the minYear value then only the maxYear value will be displayed. "
   ]
  },
  {
   "cell_type": "code",
   "execution_count": 33,
   "metadata": {
    "collapsed": false
   },
   "outputs": [
    {
     "name": "stdout",
     "output_type": "stream",
     "text": [
      "       Percent Current Smokers   Lower 95% Confidence Interval  \\\n",
      "count                       1.0                            1.0   \n",
      "mean                       13.7                           12.5   \n",
      "std                         NaN                            NaN   \n",
      "min                        13.7                           12.5   \n",
      "25%                        13.7                           12.5   \n",
      "50%                        13.7                           12.5   \n",
      "75%                        13.7                           12.5   \n",
      "max                        13.7                           12.5   \n",
      "\n",
      "       Upper 95% Confidence Interval   \n",
      "count                             1.0  \n",
      "mean                             14.9  \n",
      "std                               NaN  \n",
      "min                              14.9  \n",
      "25%                              14.9  \n",
      "50%                              14.9  \n",
      "75%                              14.9  \n",
      "max                              14.9  \n"
     ]
    }
   ],
   "source": [
    "@interact\n",
    "def describe(minYear=(2001, 2011, 2), maxYear=(2001, 2011, 2)):\n",
    "    if(maxYear < minYear):\n",
    "        minYear = maxYear\n",
    "    print(teenFemaleDf[teenFemaleDf.index.map(lambda x: x.year >= minYear and x.year <= maxYear)]\n",
    "          [['Percent Current Smokers ', 'Lower 95% Confidence Interval', 'Upper 95% Confidence Interval ']].describe())"
   ]
  },
  {
   "cell_type": "markdown",
   "metadata": {},
   "source": [
    "To provide a side-by-side comparison of this data, the average values for the total, male, and female populations shown above were compiled into a single table. This table simplifies the comparison process."
   ]
  },
  {
   "cell_type": "code",
   "execution_count": 34,
   "metadata": {
    "collapsed": false
   },
   "outputs": [
    {
     "data": {
      "text/html": [
       "<div>\n",
       "<table border=\"1\" class=\"dataframe\">\n",
       "  <thead>\n",
       "    <tr style=\"text-align: right;\">\n",
       "      <th></th>\n",
       "      <th>Total</th>\n",
       "      <th>Male</th>\n",
       "      <th>Female</th>\n",
       "    </tr>\n",
       "  </thead>\n",
       "  <tbody>\n",
       "    <tr>\n",
       "      <th>count</th>\n",
       "      <td>6.000000</td>\n",
       "      <td>6.000000</td>\n",
       "      <td>6.000000</td>\n",
       "    </tr>\n",
       "    <tr>\n",
       "      <th>mean</th>\n",
       "      <td>13.916667</td>\n",
       "      <td>14.883333</td>\n",
       "      <td>12.866667</td>\n",
       "    </tr>\n",
       "    <tr>\n",
       "      <th>std</th>\n",
       "      <td>1.960017</td>\n",
       "      <td>1.954908</td>\n",
       "      <td>3.222835</td>\n",
       "    </tr>\n",
       "    <tr>\n",
       "      <th>min</th>\n",
       "      <td>10.500000</td>\n",
       "      <td>12.300000</td>\n",
       "      <td>8.000000</td>\n",
       "    </tr>\n",
       "    <tr>\n",
       "      <th>25%</th>\n",
       "      <td>13.350000</td>\n",
       "      <td>13.350000</td>\n",
       "      <td>11.300000</td>\n",
       "    </tr>\n",
       "    <tr>\n",
       "      <th>50%</th>\n",
       "      <td>14.200000</td>\n",
       "      <td>15.300000</td>\n",
       "      <td>12.800000</td>\n",
       "    </tr>\n",
       "    <tr>\n",
       "      <th>75%</th>\n",
       "      <td>15.200000</td>\n",
       "      <td>16.275000</td>\n",
       "      <td>15.200000</td>\n",
       "    </tr>\n",
       "    <tr>\n",
       "      <th>max</th>\n",
       "      <td>16.000000</td>\n",
       "      <td>17.100000</td>\n",
       "      <td>16.800000</td>\n",
       "    </tr>\n",
       "  </tbody>\n",
       "</table>\n",
       "</div>"
      ],
      "text/plain": [
       "           Total       Male     Female\n",
       "count   6.000000   6.000000   6.000000\n",
       "mean   13.916667  14.883333  12.866667\n",
       "std     1.960017   1.954908   3.222835\n",
       "min    10.500000  12.300000   8.000000\n",
       "25%    13.350000  13.350000  11.300000\n",
       "50%    14.200000  15.300000  12.800000\n",
       "75%    15.200000  16.275000  15.200000\n",
       "max    16.000000  17.100000  16.800000"
      ]
     },
     "execution_count": 34,
     "metadata": {},
     "output_type": "execute_result"
    }
   ],
   "source": [
    "pd.concat([teenTotalDf[['Percent Current Smokers ']].rename(columns={'Percent Current Smokers ' : 'Total'}),\n",
    "         teenMaleDf[['Percent Current Smokers ']].rename(columns={'Percent Current Smokers ' : 'Male'}),\n",
    "         teenFemaleDf[['Percent Current Smokers ']].rename(columns={'Percent Current Smokers ' : 'Female'})], \n",
    "          axis = 1).describe()"
   ]
  },
  {
   "cell_type": "markdown",
   "metadata": {},
   "source": [
    "However, this comparison is better visualized in the line graph provided below. On average, the percentage of male teen smokers was higher than that of female smoker and the total percentage of totals. There was one year where the percentage of male smokers was lower than both the total and female smokers and where the percentage of female smokers was greater than that of both the total and male smokers. This may have been due to the surveying methods used as this trend seems to be an outlier."
   ]
  },
  {
   "cell_type": "code",
   "execution_count": 35,
   "metadata": {
    "collapsed": false
   },
   "outputs": [
    {
     "data": {
      "text/plain": [
       "<matplotlib.legend.Legend at 0x920bf28>"
      ]
     },
     "execution_count": 35,
     "metadata": {},
     "output_type": "execute_result"
    },
    {
     "data": {
      "image/png": "[encoded data removed]",
      "text/plain": [
       "<matplotlib.figure.Figure at 0x92060b8>"
      ]
     },
     "metadata": {},
     "output_type": "display_data"
    }
   ],
   "source": [
    "teenTotalPlot = teenTotalDf[['Percent Current Smokers ']].plot()\n",
    "teenMalePlot = teenMaleDf[['Percent Current Smokers ']].plot(ax = teenTotalPlot)\n",
    "teenFemalePlot = teenFemaleDf[['Percent Current Smokers ']].plot(ax = teenMalePlot)\n",
    "handles, labels = teenFemalePlot.get_legend_handles_labels()\n",
    "teenFemalePlot.legend(handles, ['Total', 'Male', 'Female'])"
   ]
  },
  {
   "cell_type": "markdown",
   "metadata": {},
   "source": [
    "In order to understand how the teen and adult populations differ in terms of smoking percentages, the male and female percentages for each population was graphed on the plot below. It can be seen that, on average, the percentage of male smokers is less for teens than it is for adults. Conversely, it appears that teenaged females are more likely to smoke than adult females are. "
   ]
  },
  {
   "cell_type": "code",
   "execution_count": 36,
   "metadata": {
    "collapsed": false,
    "scrolled": true
   },
   "outputs": [
    {
     "data": {
      "text/plain": [
       "<matplotlib.legend.Legend at 0x9325400>"
      ]
     },
     "execution_count": 36,
     "metadata": {},
     "output_type": "execute_result"
    },
    {
     "data": {
      "image/png": "[encoded data removed]",
      "text/plain": [
       "<matplotlib.figure.Figure at 0x9325780>"
      ]
     },
     "metadata": {},
     "output_type": "display_data"
    }
   ],
   "source": [
    "adultMalePlot = adultMaleDf[adultMaleDf.index.map(lambda x: x.year >= 2001 and x.year <= 2010)][['Percentage of  Current Smokers']].plot()\n",
    "adultFemalePlot = adultFemaleDf[adultFemaleDf.index.map(lambda x: x.year >= 2001 and x.year <= 2010)][['Percentage of  Current Smokers']].plot(ax = adultMalePlot)\n",
    "teenMalePlot = teenMaleDf[['Percent Current Smokers ']].plot(ax = adultFemalePlot)\n",
    "teenFemalePlot = teenFemaleDf[['Percent Current Smokers ']].plot(ax = teenMalePlot)\n",
    "handles, labels = teenFemalePlot.get_legend_handles_labels()\n",
    "teenFemalePlot.legend(handles, ['Adult Male', 'Adult Female', 'Teen Male', 'Teen Female'])"
   ]
  },
  {
   "cell_type": "markdown",
   "metadata": {},
   "source": [
    "###Illegal Sale of Tobacco to Minors <a id='illegalSales'></a>\n"
   ]
  },
  {
   "cell_type": "markdown",
   "metadata": {},
   "source": [
    "One of the factors associated with the prevalence of teenaged smokers is that of the illegal sale of tobacco to minors. Luckily, data exists of the percentage of illegal sale of tobacco to minors. While illegal sale is not the only means for teenagers and minors to acquire tobacco products, illegal sales do play a major role in the prevalence of teenage smokers. The table below displays statistics on these illegal sales. "
   ]
  },
  {
   "cell_type": "code",
   "execution_count": 37,
   "metadata": {
    "collapsed": false
   },
   "outputs": [
    {
     "data": {
      "text/html": [
       "<div>\n",
       "<table border=\"1\" class=\"dataframe\">\n",
       "  <thead>\n",
       "    <tr style=\"text-align: right;\">\n",
       "      <th></th>\n",
       "      <th>% Illegal Tobacco Sales to Minors</th>\n",
       "      <th>Lower 95% Confidence Interval</th>\n",
       "      <th>Upper 95% Confidence Interval</th>\n",
       "    </tr>\n",
       "  </thead>\n",
       "  <tbody>\n",
       "    <tr>\n",
       "      <th>count</th>\n",
       "      <td>18.000000</td>\n",
       "      <td>18.000000</td>\n",
       "      <td>18.000000</td>\n",
       "    </tr>\n",
       "    <tr>\n",
       "      <th>mean</th>\n",
       "      <td>12.261111</td>\n",
       "      <td>9.722222</td>\n",
       "      <td>14.827778</td>\n",
       "    </tr>\n",
       "    <tr>\n",
       "      <th>std</th>\n",
       "      <td>4.329535</td>\n",
       "      <td>3.803490</td>\n",
       "      <td>4.880791</td>\n",
       "    </tr>\n",
       "    <tr>\n",
       "      <th>min</th>\n",
       "      <td>5.600000</td>\n",
       "      <td>4.000000</td>\n",
       "      <td>7.200000</td>\n",
       "    </tr>\n",
       "    <tr>\n",
       "      <th>25%</th>\n",
       "      <td>8.775000</td>\n",
       "      <td>6.775000</td>\n",
       "      <td>11.025000</td>\n",
       "    </tr>\n",
       "    <tr>\n",
       "      <th>50%</th>\n",
       "      <td>12.350000</td>\n",
       "      <td>9.450000</td>\n",
       "      <td>15.000000</td>\n",
       "    </tr>\n",
       "    <tr>\n",
       "      <th>75%</th>\n",
       "      <td>13.800000</td>\n",
       "      <td>11.275000</td>\n",
       "      <td>16.425000</td>\n",
       "    </tr>\n",
       "    <tr>\n",
       "      <th>max</th>\n",
       "      <td>21.700000</td>\n",
       "      <td>17.900000</td>\n",
       "      <td>25.500000</td>\n",
       "    </tr>\n",
       "  </tbody>\n",
       "</table>\n",
       "</div>"
      ],
      "text/plain": [
       "       % Illegal Tobacco Sales to Minors  Lower 95% Confidence Interval  \\\n",
       "count                          18.000000                      18.000000   \n",
       "mean                           12.261111                       9.722222   \n",
       "std                             4.329535                       3.803490   \n",
       "min                             5.600000                       4.000000   \n",
       "25%                             8.775000                       6.775000   \n",
       "50%                            12.350000                       9.450000   \n",
       "75%                            13.800000                      11.275000   \n",
       "max                            21.700000                      17.900000   \n",
       "\n",
       "       Upper 95% Confidence Interval  \n",
       "count                      18.000000  \n",
       "mean                       14.827778  \n",
       "std                         4.880791  \n",
       "min                         7.200000  \n",
       "25%                        11.025000  \n",
       "50%                        15.000000  \n",
       "75%                        16.425000  \n",
       "max                        25.500000  "
      ]
     },
     "execution_count": 37,
     "metadata": {},
     "output_type": "execute_result"
    }
   ],
   "source": [
    "salesDf = pd.read_csv(minorSalesUrl, index_col = \"Year\", parse_dates = True)\n",
    "salesDf.describe()"
   ]
  },
  {
   "cell_type": "markdown",
   "metadata": {},
   "source": [
    "When this data is compared to that of the percentage of teenaged smokers it can be seen that as the percentage of illegal sales of tobacco to minors decreased, so did the total percentage of teenaged smokers. "
   ]
  },
  {
   "cell_type": "code",
   "execution_count": 38,
   "metadata": {
    "collapsed": false
   },
   "outputs": [
    {
     "data": {
      "text/plain": [
       "<matplotlib.legend.Legend at 0x92ec390>"
      ]
     },
     "execution_count": 38,
     "metadata": {},
     "output_type": "execute_result"
    },
    {
     "data": {
      "image/png": "[encoded data removed]",
      "text/plain": [
       "<matplotlib.figure.Figure at 0x9308c88>"
      ]
     },
     "metadata": {},
     "output_type": "display_data"
    }
   ],
   "source": [
    "teenTotalPlot = teenTotalDf[['Percent Current Smokers ']].plot()\n",
    "salesPlot = salesDf[['% Illegal Tobacco Sales to Minors']].plot(ax = teenTotalPlot)\n",
    "handles, labels = salesPlot.get_legend_handles_labels()\n",
    "salesPlot.legend(handles, ['Percent Current Teen Smokers', 'Percent Illegal Tobacco Sales to Minors'])"
   ]
  },
  {
   "cell_type": "markdown",
   "metadata": {},
   "source": [
    "To further demonstrate the benefits of reducing the illegal sale of tobacco to minors, the above data was plotted alongside that of the percentage of adult smokers. It can be seen that as the percentage of illegal sale of tobacco to minors decreased, so too did the percentage of adult smokers. "
   ]
  },
  {
   "cell_type": "code",
   "execution_count": 39,
   "metadata": {
    "collapsed": false
   },
   "outputs": [
    {
     "data": {
      "text/plain": [
       "<matplotlib.legend.Legend at 0x9300ba8>"
      ]
     },
     "execution_count": 39,
     "metadata": {},
     "output_type": "execute_result"
    },
    {
     "data": {
      "image/png": "[encoded data removed]",
      "text/plain": [
       "<matplotlib.figure.Figure at 0x9300ef0>"
      ]
     },
     "metadata": {},
     "output_type": "display_data"
    }
   ],
   "source": [
    "teenTotalPlot = teenTotalDf[['Percent Current Smokers ']].plot()\n",
    "adultTotalPlot = adultTotalDf[['Percentage of  Current Smokers']].plot(ax = teenTotalPlot)\n",
    "salesPlot = salesDf[['% Illegal Tobacco Sales to Minors']].plot(ax = adultTotalPlot)\n",
    "handles, labels = salesPlot.get_legend_handles_labels()\n",
    "salesPlot.legend(handles, ['Percent Current Teen Smokers', 'Percent Current Adult Smokers', 'Percent Illegal Tobacco Sales to Minors'])"
   ]
  },
  {
   "cell_type": "markdown",
   "metadata": {
    "collapsed": true
   },
   "source": [
    "##Conclusion <a id='conclusion'></a>"
   ]
  },
  {
   "cell_type": "markdown",
   "metadata": {},
   "source": [
    "In conclusion, the IPython notebook is a powerful method for analyzing data and presenting research findings. In order to show aptitude in the utilization of the IPython notebook, an analysis of the statistics behind the prevalence of smoking in California was performed. To aid in this analysis, the Pandas, Numpy, and Matplotlib libraries were utilized. "
   ]
  }
 ],
 "metadata": {
  "kernelspec": {
   "display_name": "Python 3",
   "language": "python",
   "name": "python3"
  },
  "language_info": {
   "codemirror_mode": {
    "name": "ipython",
    "version": 3
   },
   "file_extension": ".py",
   "mimetype": "text/x-python",
   "name": "python",
   "nbconvert_exporter": "python",
   "pygments_lexer": "ipython3",
   "version": "3.4.3"
  }
 },
 "nbformat": 4,
 "nbformat_minor": 0
}
